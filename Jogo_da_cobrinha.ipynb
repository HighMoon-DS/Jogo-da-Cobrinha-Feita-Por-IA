{
  "nbformat": 4,
  "nbformat_minor": 0,
  "metadata": {
    "colab": {
      "provenance": []
    },
    "kernelspec": {
      "name": "python3",
      "display_name": "Python 3"
    },
    "language_info": {
      "name": "python"
    }
  },
  "cells": [
    {
      "cell_type": "markdown",
      "source": [
        "# ***Bibliotecas***"
      ],
      "metadata": {
        "id": "KBlCVifULvLH"
      }
    },
    {
      "cell_type": "code",
      "source": [
        "import pygame\n",
        "import time\n",
        "import random\n",
        "import numpy as np\n",
        "import math\n",
        "import matplotlib.pyplot as plt"
      ],
      "metadata": {
        "id": "I2THP5NgKEvf"
      },
      "execution_count": null,
      "outputs": []
    },
    {
      "cell_type": "markdown",
      "source": [
        "# **Dados Iniciais**"
      ],
      "metadata": {
        "id": "HbaoliE7Lzig"
      }
    },
    {
      "cell_type": "code",
      "execution_count": null,
      "metadata": {
        "id": "K_EGR5MEKB24"
      },
      "outputs": [],
      "source": [
        "pygame.init()\n",
        "\n",
        "# Configurações da tela\n",
        "largura = 800\n",
        "altura = 400\n",
        "tela = pygame.display.set_mode((largura, altura))\n",
        "pygame.display.set_caption('Jogo da Cobrinha')\n",
        "\n",
        "\n",
        "# Cores\n",
        "preto = (0, 0, 0)\n",
        "verde = (0, 255, 0)\n",
        "vermelho = (255, 0, 0)\n",
        "azul = (0, 0, 255)\n",
        "branco = (255, 255, 255)\n",
        "\n",
        "\n",
        "# Tamanho da cobra e da maçã\n",
        "tamanho_cobra = 10\n",
        "velocidade_cobra = 15\n",
        "espessura_parede = 1  # Define a espessura da parede\n"
      ]
    },
    {
      "cell_type": "markdown",
      "source": [
        "# **Q- Learning(IA)**"
      ],
      "metadata": {
        "id": "EM1ZWxQDL864"
      }
    },
    {
      "cell_type": "code",
      "source": [
        "# Q-learning parâmetros\n",
        "alpha = 0.1\n",
        "gamma = 0.9\n",
        "epsilon = 1.0\n",
        "epsilon_min = 0.01\n",
        "epsilon_decay = 0.995\n",
        "\n",
        "# Número de cobras no jogo\n",
        "num_cobras = 10\n",
        "q_tables = [{} for _ in range(num_cobras)]\n",
        "\n",
        "# Cores das Cobras aleatórias\n",
        "cores_cobras = [(random.randint(0, 225), random.randint(0, 225), random.randint(0, 225)) for _ in range(num_cobras)]"
      ],
      "metadata": {
        "id": "rOnDQdIGL_P5"
      },
      "execution_count": null,
      "outputs": []
    },
    {
      "cell_type": "markdown",
      "source": [
        "# **Features**"
      ],
      "metadata": {
        "id": "GwFKPg_MMBwZ"
      }
    },
    {
      "cell_type": "code",
      "source": [
        "#Função para desenhar a cobra\n",
        "def desenhar_cobra(tamanho_cobra, lista_cobra, cor):\n",
        "    for x in lista_cobra:\n",
        "        pygame.draw.rect(tela, cor, [x[0], x[1], tamanho_cobra, tamanho_cobra])\n",
        "\n",
        "\n",
        "# Função para exibir a pontuação\n",
        "def mostrar_pontuacao(pontuacao, epoca):\n",
        "    fonte = pygame.font.SysFont(\"Castellar\", 25)\n",
        "    texto = fonte.render(\"Pontuação: \" + str(pontuacao) + \" - Época: \" + str(epoca), True, branco)\n",
        "    tela.blit(texto, [0, 0])\n",
        "\n",
        "\n",
        "# Função que gera ações possíveis\n",
        "def escolher_acao(estado, i):\n",
        "    if np.random.uniform(0, 1) < epsilon:\n",
        "        return np.random.choice(['LEFT', 'RIGHT', 'UP', 'DOWN'])\n",
        "    else:\n",
        "        q_table = q_tables[i].get(estado, {'LEFT': 0, 'RIGHT': 0, 'UP': 0, 'DOWN': 0})\n",
        "        return max(q_table, key=q_table.get)\n",
        "\n",
        "# Função para calcular a distância da cobra até a comida\n",
        "def calcular_distancia(x1, y1, comida_x, comida_y):\n",
        "    return np.sqrt((x1 - comida_x)**2 + (y1 - comida_y)**2)\n",
        "\n",
        "\n",
        "# Função para desenhar a parede\n",
        "def desenhar_paredes():\n",
        "    pygame.draw.rect(tela, vermelho, [0, 0, largura, espessura_parede])  # Parede superior\n",
        "    pygame.draw.rect(tela, vermelho, [0, altura - espessura_parede, largura, espessura_parede])  # Parede inferior\n",
        "    pygame.draw.rect(tela, vermelho, [0, 0, espessura_parede, altura])  # Parede esquerda\n",
        "    pygame.draw.rect(tela, vermelho, [largura - espessura_parede, 0, espessura_parede, altura])  # Parede direita\n",
        "\n",
        "\n",
        "# Função para calcular a distância entre dois pontos\n",
        "def calcular_distancia(x1, y1, x2, y2):\n",
        "    return ((x2 - x1)**2 + (y2 - y1)**2)**0.5\n"
      ],
      "metadata": {
        "id": "AQSRz_FFKZ6q"
      },
      "execution_count": null,
      "outputs": []
    },
    {
      "cell_type": "markdown",
      "source": [
        "# **Jogo Completo**"
      ],
      "metadata": {
        "id": "2ZOclKs9MFvl"
      }
    },
    {
      "cell_type": "code",
      "source": [
        "# Função principal do jogo\n",
        "def jogo():\n",
        "    global q_tables, epsilon\n",
        "    epoca = 0  # Inicializa a contagem de épocas\n",
        "    comida_inicial_x = largura / 4  # Posição fixa para a primeira comida\n",
        "    comida_inicial_y = altura / 4\n",
        "\n",
        "    pontuacoes = []  # Lista para armazenar as pontuações das épocas\n",
        "\n",
        "    while True:\n",
        "        # Inicializa as cobras e a comida\n",
        "        cobras = [{'x1': largura / 2, 'y1': altura / 2, 'x1_mover': 0, 'y1_mover': 0,\n",
        "                   'lista_cobra': [], 'comprimento_cobra': 1, 'cor': cores_cobras[i],\n",
        "                   'tempo_sobrevivencia': time.time()} for i in range(num_cobras)]\n",
        "\n",
        "        # Primeira comida em posição fixa, outras aleatórias\n",
        "        comida_x = comida_inicial_x\n",
        "        comida_y = comida_inicial_y\n",
        "\n",
        "        inicio_epoca = time.time()  # Inicializa o temporizador\n",
        "        clock = pygame.time.Clock()  # Controla a taxa de atualização\n",
        "        game_over = False  # Flag para o estado do jogo\n",
        "        cobra_morreu = [False] * num_cobras  # Lista para verificar se cada cobra morreu\n",
        "\n",
        "        while not game_over:\n",
        "            tempo_decorrido = time.time() - inicio_epoca\n",
        "            if tempo_decorrido > 60:\n",
        "                game_over = True\n",
        "\n",
        "            for evento in pygame.event.get():\n",
        "                if evento.type == pygame.QUIT:\n",
        "                    pygame.quit()\n",
        "                    quit()\n",
        "\n",
        "            for i, cobra in enumerate(cobras):\n",
        "                estado_anterior = (cobra['x1'], cobra['y1'], comida_x, comida_y)\n",
        "\n",
        "                # Inicializa a Q-table para o estado anterior se não estiver presente\n",
        "                if estado_anterior not in q_tables[i]:\n",
        "                    q_tables[i][estado_anterior] = {'LEFT': 0, 'RIGHT': 0, 'UP': 0, 'DOWN': 0}\n",
        "\n",
        "                # Escolha de ação\n",
        "                acao = escolher_acao(estado_anterior, i)\n",
        "\n",
        "                # Atualiza movimento da cobra\n",
        "                if acao == 'LEFT':\n",
        "                    cobra['x1_mover'] = -tamanho_cobra\n",
        "                    cobra['y1_mover'] = 0\n",
        "                elif acao == 'RIGHT':\n",
        "                    cobra['x1_mover'] = tamanho_cobra\n",
        "                    cobra['y1_mover'] = 0\n",
        "                elif acao == 'UP':\n",
        "                    cobra['y1_mover'] = -tamanho_cobra\n",
        "                    cobra['x1_mover'] = 0\n",
        "                elif acao == 'DOWN':\n",
        "                    cobra['y1_mover'] = tamanho_cobra\n",
        "                    cobra['x1_mover'] = 0\n",
        "\n",
        "                cobra['x1'] += cobra['x1_mover']\n",
        "                cobra['y1'] += cobra['y1_mover']\n",
        "\n",
        "                # Checa colisão com as paredes\n",
        "                if (cobra['x1'] >= largura or cobra['x1'] < 1 or\n",
        "                    cobra['y1'] >= altura or cobra['y1'] < 1):\n",
        "                    cobra['morreu'] = True\n",
        "                else:\n",
        "                    cobra['morreu'] = False\n",
        "\n",
        "                # Checa colisão com si mesma\n",
        "                cabeca_cobra = [cobra['x1'], cobra['y1']]\n",
        "                cobra['lista_cobra'].append(cabeca_cobra)\n",
        "                if len(cobra['lista_cobra']) > cobra['comprimento_cobra']:\n",
        "                    del cobra['lista_cobra'][0]\n",
        "                for segmento in cobra['lista_cobra'][:-1]:\n",
        "                    if segmento == cabeca_cobra:\n",
        "                        cobra['morreu'] = True\n",
        "\n",
        "                # Adiciona recompensa por sobrevivência quando a cobra morre\n",
        "                if cobra['morreu']:\n",
        "                    cobra_morreu[i] = True\n",
        "                    tempo_sobrevivencia = time.time() - cobra['tempo_sobrevivencia']\n",
        "                    recompensa = tempo_sobrevivencia * 0.1  # Ajuste o fator de recompensa conforme necessário\n",
        "                    estado_novo = (cobra['x1'], cobra['y1'], comida_x, comida_y)\n",
        "                    if estado_novo not in q_tables[i]:\n",
        "                        q_tables[i][estado_novo] = {'LEFT': 0, 'RIGHT': 0, 'UP': 0, 'DOWN': 0}\n",
        "                    max_q_proximo_estado = max(q_tables[i].get(estado_novo, {'LEFT': 0, 'RIGHT': 0, 'UP': 0, 'DOWN': 0}).values())\n",
        "                    for acao in ['LEFT', 'RIGHT', 'UP', 'DOWN']:\n",
        "                        q_tables[i][estado_anterior][acao] = (1 - alpha) * q_tables[i][estado_anterior][acao] + \\\n",
        "                                                              alpha * (recompensa + gamma * max_q_proximo_estado)\n",
        "                    continue\n",
        "\n",
        "                # Checa se a cobra comeu a comida\n",
        "                if cobra['x1'] == comida_x and cobra['y1'] == comida_y:\n",
        "                    comida_x = round(random.randrange(0, largura - tamanho_cobra) / 10.0) * 10.0\n",
        "                    comida_y = round(random.randrange(0, altura - tamanho_cobra) / 10.0) * 10.0\n",
        "                    cobra['comprimento_cobra'] += 1\n",
        "                    recompensa = 30\n",
        "                else:\n",
        "                    # Calcula a distância e ajusta a recompensa\n",
        "                    distancia = calcular_distancia(cobra['x1'], cobra['y1'], comida_x, comida_y)\n",
        "                    recompensa = -distancia / (largura + altura) * 10  # Ajusta a recompensa com base na distância\n",
        "\n",
        "                estado_novo = (cobra['x1'], cobra['y1'], comida_x, comida_y)\n",
        "                if estado_novo not in q_tables[i]:\n",
        "                    q_tables[i][estado_novo] = {'LEFT': 0, 'RIGHT': 0, 'UP': 0, 'DOWN': 0}\n",
        "\n",
        "                # Atualiza a Q-table\n",
        "                max_q_proximo_estado = max(q_tables[i].get(estado_novo, {'LEFT': 0, 'RIGHT': 0, 'UP': 0, 'DOWN': 0}).values())\n",
        "                for acao in ['LEFT', 'RIGHT', 'UP', 'DOWN']:\n",
        "                    q_tables[i][estado_anterior][acao] = (1 - alpha) * q_tables[i][estado_anterior][acao] + \\\n",
        "                                                          alpha * (recompensa + gamma * max_q_proximo_estado)\n",
        "\n",
        "            tela.fill(preto)  # Limpa a tela\n",
        "            desenhar_paredes()  # Desenha as paredes\n",
        "\n",
        "            # Desenha as cobras e a comida\n",
        "            for cobra in cobras:\n",
        "                if not cobra.get('morreu', False):\n",
        "                    desenhar_cobra(tamanho_cobra, cobra['lista_cobra'], cobra['cor'])\n",
        "            pygame.draw.rect(tela, azul, [comida_x, comida_y, tamanho_cobra, tamanho_cobra])\n",
        "            mostrar_pontuacao(max(cobra['comprimento_cobra'] - 1 for cobra in cobras), epoca)\n",
        "\n",
        "            pygame.display.update()  # Atualiza a tela\n",
        "            clock.tick(velocidade_cobra)  # Controla FPS\n",
        "\n",
        "            # Verifica se todas as cobras morreram e reinicia a época\n",
        "            if all(cobra_morreu) or tempo_decorrido > 60:\n",
        "                pontuacoes.append(max(cobra['comprimento_cobra'] - 1 for cobra in cobras))\n",
        "                epoca += 1\n",
        "\n",
        "\n",
        "                # Atualiza o epsilon após cada época\n",
        "                epsilon = max(epsilon * epsilon_decay, epsilon_min)\n",
        "\n",
        "                # Mensagem de atualização\n",
        "                print(f'Época Atual: {epoca}')\n",
        "                print(f'Maior Pontuação: {max(pontuacoes)}')\n",
        "                print(f\"Estado Anterior: {estado_anterior}\")\n",
        "                print(f\"Estado Novo: {estado_novo}\")\n",
        "                print(f\"Recompensa: {recompensa}\")\n",
        "                print(f\"Q-table: {q_tables[i]}\")\n",
        "                print('#' *50)\n",
        "\n",
        "                break  # Sai do loop do jogo para iniciar uma nova época"
      ],
      "metadata": {
        "id": "lIvRUinMKQXx"
      },
      "execution_count": null,
      "outputs": []
    },
    {
      "cell_type": "code",
      "source": [
        "tempo_init = time.time()\n",
        "tempo_decorrido = time.time() - tempo_init\n",
        "\n",
        "print(f\"Tempo decorrido: {tempo_decorrido:.2f} segundos\")\n",
        "time.sleep(1)  # Atualiza a cada 1 segundo\n",
        "jogo()\n"
      ],
      "metadata": {
        "id": "O_xYY07rKfMJ",
        "colab": {
          "base_uri": "https://localhost:8080/",
          "height": 329
        },
        "outputId": "8339d6bf-8cde-48c6-87c7-4210bdfccbf6"
      },
      "execution_count": null,
      "outputs": [
        {
          "output_type": "stream",
          "name": "stdout",
          "text": [
            "Tempo decorrido: 0.00 segundos\n"
          ]
        },
        {
          "output_type": "error",
          "ename": "KeyboardInterrupt",
          "evalue": "",
          "traceback": [
            "\u001b[0;31m---------------------------------------------------------------------------\u001b[0m",
            "\u001b[0;31mKeyboardInterrupt\u001b[0m                         Traceback (most recent call last)",
            "\u001b[0;32m<ipython-input-14-ca5df9ffaaab>\u001b[0m in \u001b[0;36m<cell line: 6>\u001b[0;34m()\u001b[0m\n\u001b[1;32m      4\u001b[0m \u001b[0mprint\u001b[0m\u001b[0;34m(\u001b[0m\u001b[0;34mf\"Tempo decorrido: {tempo_decorrido:.2f} segundos\"\u001b[0m\u001b[0;34m)\u001b[0m\u001b[0;34m\u001b[0m\u001b[0;34m\u001b[0m\u001b[0m\n\u001b[1;32m      5\u001b[0m \u001b[0mtime\u001b[0m\u001b[0;34m.\u001b[0m\u001b[0msleep\u001b[0m\u001b[0;34m(\u001b[0m\u001b[0;36m1\u001b[0m\u001b[0;34m)\u001b[0m  \u001b[0;31m# Atualiza a cada 1 segundo\u001b[0m\u001b[0;34m\u001b[0m\u001b[0;34m\u001b[0m\u001b[0m\n\u001b[0;32m----> 6\u001b[0;31m \u001b[0mjogo\u001b[0m\u001b[0;34m(\u001b[0m\u001b[0;34m)\u001b[0m\u001b[0;34m\u001b[0m\u001b[0;34m\u001b[0m\u001b[0m\n\u001b[0m",
            "\u001b[0;32m<ipython-input-11-0bb9bea37701>\u001b[0m in \u001b[0;36mjogo\u001b[0;34m()\u001b[0m\n\u001b[1;32m    122\u001b[0m \u001b[0;34m\u001b[0m\u001b[0m\n\u001b[1;32m    123\u001b[0m             \u001b[0mpygame\u001b[0m\u001b[0;34m.\u001b[0m\u001b[0mdisplay\u001b[0m\u001b[0;34m.\u001b[0m\u001b[0mupdate\u001b[0m\u001b[0;34m(\u001b[0m\u001b[0;34m)\u001b[0m  \u001b[0;31m# Atualiza a tela\u001b[0m\u001b[0;34m\u001b[0m\u001b[0;34m\u001b[0m\u001b[0m\n\u001b[0;32m--> 124\u001b[0;31m             \u001b[0mclock\u001b[0m\u001b[0;34m.\u001b[0m\u001b[0mtick\u001b[0m\u001b[0;34m(\u001b[0m\u001b[0mvelocidade_cobra\u001b[0m\u001b[0;34m)\u001b[0m  \u001b[0;31m# Controla FPS\u001b[0m\u001b[0;34m\u001b[0m\u001b[0;34m\u001b[0m\u001b[0m\n\u001b[0m\u001b[1;32m    125\u001b[0m \u001b[0;34m\u001b[0m\u001b[0m\n\u001b[1;32m    126\u001b[0m             \u001b[0;31m# Verifica se todas as cobras morreram e reinicia a época\u001b[0m\u001b[0;34m\u001b[0m\u001b[0;34m\u001b[0m\u001b[0m\n",
            "\u001b[0;31mKeyboardInterrupt\u001b[0m: "
          ]
        }
      ]
    }
  ]
}